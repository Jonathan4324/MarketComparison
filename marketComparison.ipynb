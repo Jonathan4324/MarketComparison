{
  "nbformat": 4,
  "nbformat_minor": 0,
  "metadata": {
    "colab": {
      "provenance": [],
      "authorship_tag": "ABX9TyMzNAQ822ogUFTKwojf/U53",
      "include_colab_link": true
    },
    "kernelspec": {
      "name": "python3",
      "display_name": "Python 3"
    },
    "language_info": {
      "name": "python"
    }
  },
  "cells": [
    {
      "cell_type": "markdown",
      "metadata": {
        "id": "view-in-github",
        "colab_type": "text"
      },
      "source": [
        "<a href=\"https://colab.research.google.com/github/Jonathan4324/MarketComparison/blob/main/marketComparison.ipynb\" target=\"_parent\"><img src=\"https://colab.research.google.com/assets/colab-badge.svg\" alt=\"Open In Colab\"/></a>"
      ]
    },
    {
      "cell_type": "code",
      "execution_count": 1,
      "metadata": {
        "colab": {
          "base_uri": "https://localhost:8080/"
        },
        "id": "DSB08uftScem",
        "outputId": "e1a25968-7bbc-425b-c39b-2df1332a6970"
      },
      "outputs": [
        {
          "output_type": "stream",
          "name": "stdout",
          "text": [
            "Requirement already satisfied: pandas in /usr/local/lib/python3.10/dist-packages (2.2.2)\n",
            "Requirement already satisfied: numpy in /usr/local/lib/python3.10/dist-packages (1.26.4)\n",
            "Collecting fuzzywuzzy\n",
            "  Downloading fuzzywuzzy-0.18.0-py2.py3-none-any.whl.metadata (4.9 kB)\n",
            "Collecting python-Levenshtein\n",
            "  Downloading python_Levenshtein-0.26.1-py3-none-any.whl.metadata (3.7 kB)\n",
            "Requirement already satisfied: scikit-learn in /usr/local/lib/python3.10/dist-packages (1.6.0)\n",
            "Requirement already satisfied: nltk in /usr/local/lib/python3.10/dist-packages (3.9.1)\n",
            "Requirement already satisfied: spacy in /usr/local/lib/python3.10/dist-packages (3.7.5)\n",
            "Requirement already satisfied: sentence-transformers in /usr/local/lib/python3.10/dist-packages (3.3.1)\n",
            "Requirement already satisfied: matplotlib in /usr/local/lib/python3.10/dist-packages (3.8.0)\n",
            "Requirement already satisfied: seaborn in /usr/local/lib/python3.10/dist-packages (0.13.2)\n",
            "Requirement already satisfied: plotly in /usr/local/lib/python3.10/dist-packages (5.24.1)\n",
            "Requirement already satisfied: beautifulsoup4 in /usr/local/lib/python3.10/dist-packages (4.12.3)\n",
            "Requirement already satisfied: requests in /usr/local/lib/python3.10/dist-packages (2.32.3)\n",
            "Requirement already satisfied: tqdm in /usr/local/lib/python3.10/dist-packages (4.67.1)\n",
            "Requirement already satisfied: python-dateutil>=2.8.2 in /usr/local/lib/python3.10/dist-packages (from pandas) (2.8.2)\n",
            "Requirement already satisfied: pytz>=2020.1 in /usr/local/lib/python3.10/dist-packages (from pandas) (2024.2)\n",
            "Requirement already satisfied: tzdata>=2022.7 in /usr/local/lib/python3.10/dist-packages (from pandas) (2024.2)\n",
            "Collecting Levenshtein==0.26.1 (from python-Levenshtein)\n",
            "  Downloading levenshtein-0.26.1-cp310-cp310-manylinux_2_17_x86_64.manylinux2014_x86_64.whl.metadata (3.2 kB)\n",
            "Collecting rapidfuzz<4.0.0,>=3.9.0 (from Levenshtein==0.26.1->python-Levenshtein)\n",
            "  Downloading rapidfuzz-3.11.0-cp310-cp310-manylinux_2_17_x86_64.manylinux2014_x86_64.whl.metadata (11 kB)\n",
            "Requirement already satisfied: scipy>=1.6.0 in /usr/local/lib/python3.10/dist-packages (from scikit-learn) (1.13.1)\n",
            "Requirement already satisfied: joblib>=1.2.0 in /usr/local/lib/python3.10/dist-packages (from scikit-learn) (1.4.2)\n",
            "Requirement already satisfied: threadpoolctl>=3.1.0 in /usr/local/lib/python3.10/dist-packages (from scikit-learn) (3.5.0)\n",
            "Requirement already satisfied: click in /usr/local/lib/python3.10/dist-packages (from nltk) (8.1.7)\n",
            "Requirement already satisfied: regex>=2021.8.3 in /usr/local/lib/python3.10/dist-packages (from nltk) (2024.11.6)\n",
            "Requirement already satisfied: spacy-legacy<3.1.0,>=3.0.11 in /usr/local/lib/python3.10/dist-packages (from spacy) (3.0.12)\n",
            "Requirement already satisfied: spacy-loggers<2.0.0,>=1.0.0 in /usr/local/lib/python3.10/dist-packages (from spacy) (1.0.5)\n",
            "Requirement already satisfied: murmurhash<1.1.0,>=0.28.0 in /usr/local/lib/python3.10/dist-packages (from spacy) (1.0.11)\n",
            "Requirement already satisfied: cymem<2.1.0,>=2.0.2 in /usr/local/lib/python3.10/dist-packages (from spacy) (2.0.10)\n",
            "Requirement already satisfied: preshed<3.1.0,>=3.0.2 in /usr/local/lib/python3.10/dist-packages (from spacy) (3.0.9)\n",
            "Requirement already satisfied: thinc<8.3.0,>=8.2.2 in /usr/local/lib/python3.10/dist-packages (from spacy) (8.2.5)\n",
            "Requirement already satisfied: wasabi<1.2.0,>=0.9.1 in /usr/local/lib/python3.10/dist-packages (from spacy) (1.1.3)\n",
            "Requirement already satisfied: srsly<3.0.0,>=2.4.3 in /usr/local/lib/python3.10/dist-packages (from spacy) (2.5.0)\n",
            "Requirement already satisfied: catalogue<2.1.0,>=2.0.6 in /usr/local/lib/python3.10/dist-packages (from spacy) (2.0.10)\n",
            "Requirement already satisfied: weasel<0.5.0,>=0.1.0 in /usr/local/lib/python3.10/dist-packages (from spacy) (0.4.1)\n",
            "Requirement already satisfied: typer<1.0.0,>=0.3.0 in /usr/local/lib/python3.10/dist-packages (from spacy) (0.15.1)\n",
            "Requirement already satisfied: pydantic!=1.8,!=1.8.1,<3.0.0,>=1.7.4 in /usr/local/lib/python3.10/dist-packages (from spacy) (2.10.3)\n",
            "Requirement already satisfied: jinja2 in /usr/local/lib/python3.10/dist-packages (from spacy) (3.1.4)\n",
            "Requirement already satisfied: setuptools in /usr/local/lib/python3.10/dist-packages (from spacy) (75.1.0)\n",
            "Requirement already satisfied: packaging>=20.0 in /usr/local/lib/python3.10/dist-packages (from spacy) (24.2)\n",
            "Requirement already satisfied: langcodes<4.0.0,>=3.2.0 in /usr/local/lib/python3.10/dist-packages (from spacy) (3.5.0)\n",
            "Requirement already satisfied: transformers<5.0.0,>=4.41.0 in /usr/local/lib/python3.10/dist-packages (from sentence-transformers) (4.47.1)\n",
            "Requirement already satisfied: torch>=1.11.0 in /usr/local/lib/python3.10/dist-packages (from sentence-transformers) (2.5.1+cu121)\n",
            "Requirement already satisfied: huggingface-hub>=0.20.0 in /usr/local/lib/python3.10/dist-packages (from sentence-transformers) (0.27.0)\n",
            "Requirement already satisfied: Pillow in /usr/local/lib/python3.10/dist-packages (from sentence-transformers) (11.0.0)\n",
            "Requirement already satisfied: contourpy>=1.0.1 in /usr/local/lib/python3.10/dist-packages (from matplotlib) (1.3.1)\n",
            "Requirement already satisfied: cycler>=0.10 in /usr/local/lib/python3.10/dist-packages (from matplotlib) (0.12.1)\n",
            "Requirement already satisfied: fonttools>=4.22.0 in /usr/local/lib/python3.10/dist-packages (from matplotlib) (4.55.3)\n",
            "Requirement already satisfied: kiwisolver>=1.0.1 in /usr/local/lib/python3.10/dist-packages (from matplotlib) (1.4.7)\n",
            "Requirement already satisfied: pyparsing>=2.3.1 in /usr/local/lib/python3.10/dist-packages (from matplotlib) (3.2.0)\n",
            "Requirement already satisfied: tenacity>=6.2.0 in /usr/local/lib/python3.10/dist-packages (from plotly) (9.0.0)\n",
            "Requirement already satisfied: soupsieve>1.2 in /usr/local/lib/python3.10/dist-packages (from beautifulsoup4) (2.6)\n",
            "Requirement already satisfied: charset-normalizer<4,>=2 in /usr/local/lib/python3.10/dist-packages (from requests) (3.4.0)\n",
            "Requirement already satisfied: idna<4,>=2.5 in /usr/local/lib/python3.10/dist-packages (from requests) (3.10)\n",
            "Requirement already satisfied: urllib3<3,>=1.21.1 in /usr/local/lib/python3.10/dist-packages (from requests) (2.2.3)\n",
            "Requirement already satisfied: certifi>=2017.4.17 in /usr/local/lib/python3.10/dist-packages (from requests) (2024.12.14)\n",
            "Requirement already satisfied: filelock in /usr/local/lib/python3.10/dist-packages (from huggingface-hub>=0.20.0->sentence-transformers) (3.16.1)\n",
            "Requirement already satisfied: fsspec>=2023.5.0 in /usr/local/lib/python3.10/dist-packages (from huggingface-hub>=0.20.0->sentence-transformers) (2024.10.0)\n",
            "Requirement already satisfied: pyyaml>=5.1 in /usr/local/lib/python3.10/dist-packages (from huggingface-hub>=0.20.0->sentence-transformers) (6.0.2)\n",
            "Requirement already satisfied: typing-extensions>=3.7.4.3 in /usr/local/lib/python3.10/dist-packages (from huggingface-hub>=0.20.0->sentence-transformers) (4.12.2)\n",
            "Requirement already satisfied: language-data>=1.2 in /usr/local/lib/python3.10/dist-packages (from langcodes<4.0.0,>=3.2.0->spacy) (1.3.0)\n",
            "Requirement already satisfied: annotated-types>=0.6.0 in /usr/local/lib/python3.10/dist-packages (from pydantic!=1.8,!=1.8.1,<3.0.0,>=1.7.4->spacy) (0.7.0)\n",
            "Requirement already satisfied: pydantic-core==2.27.1 in /usr/local/lib/python3.10/dist-packages (from pydantic!=1.8,!=1.8.1,<3.0.0,>=1.7.4->spacy) (2.27.1)\n",
            "Requirement already satisfied: six>=1.5 in /usr/local/lib/python3.10/dist-packages (from python-dateutil>=2.8.2->pandas) (1.17.0)\n",
            "Requirement already satisfied: blis<0.8.0,>=0.7.8 in /usr/local/lib/python3.10/dist-packages (from thinc<8.3.0,>=8.2.2->spacy) (0.7.11)\n",
            "Requirement already satisfied: confection<1.0.0,>=0.0.1 in /usr/local/lib/python3.10/dist-packages (from thinc<8.3.0,>=8.2.2->spacy) (0.1.5)\n",
            "Requirement already satisfied: networkx in /usr/local/lib/python3.10/dist-packages (from torch>=1.11.0->sentence-transformers) (3.4.2)\n",
            "Requirement already satisfied: sympy==1.13.1 in /usr/local/lib/python3.10/dist-packages (from torch>=1.11.0->sentence-transformers) (1.13.1)\n",
            "Requirement already satisfied: mpmath<1.4,>=1.1.0 in /usr/local/lib/python3.10/dist-packages (from sympy==1.13.1->torch>=1.11.0->sentence-transformers) (1.3.0)\n",
            "Requirement already satisfied: tokenizers<0.22,>=0.21 in /usr/local/lib/python3.10/dist-packages (from transformers<5.0.0,>=4.41.0->sentence-transformers) (0.21.0)\n",
            "Requirement already satisfied: safetensors>=0.4.1 in /usr/local/lib/python3.10/dist-packages (from transformers<5.0.0,>=4.41.0->sentence-transformers) (0.4.5)\n",
            "Requirement already satisfied: shellingham>=1.3.0 in /usr/local/lib/python3.10/dist-packages (from typer<1.0.0,>=0.3.0->spacy) (1.5.4)\n",
            "Requirement already satisfied: rich>=10.11.0 in /usr/local/lib/python3.10/dist-packages (from typer<1.0.0,>=0.3.0->spacy) (13.9.4)\n",
            "Requirement already satisfied: cloudpathlib<1.0.0,>=0.7.0 in /usr/local/lib/python3.10/dist-packages (from weasel<0.5.0,>=0.1.0->spacy) (0.20.0)\n",
            "Requirement already satisfied: smart-open<8.0.0,>=5.2.1 in /usr/local/lib/python3.10/dist-packages (from weasel<0.5.0,>=0.1.0->spacy) (7.1.0)\n",
            "Requirement already satisfied: MarkupSafe>=2.0 in /usr/local/lib/python3.10/dist-packages (from jinja2->spacy) (3.0.2)\n",
            "Requirement already satisfied: marisa-trie>=1.1.0 in /usr/local/lib/python3.10/dist-packages (from language-data>=1.2->langcodes<4.0.0,>=3.2.0->spacy) (1.2.1)\n",
            "Requirement already satisfied: markdown-it-py>=2.2.0 in /usr/local/lib/python3.10/dist-packages (from rich>=10.11.0->typer<1.0.0,>=0.3.0->spacy) (3.0.0)\n",
            "Requirement already satisfied: pygments<3.0.0,>=2.13.0 in /usr/local/lib/python3.10/dist-packages (from rich>=10.11.0->typer<1.0.0,>=0.3.0->spacy) (2.18.0)\n",
            "Requirement already satisfied: wrapt in /usr/local/lib/python3.10/dist-packages (from smart-open<8.0.0,>=5.2.1->weasel<0.5.0,>=0.1.0->spacy) (1.17.0)\n",
            "Requirement already satisfied: mdurl~=0.1 in /usr/local/lib/python3.10/dist-packages (from markdown-it-py>=2.2.0->rich>=10.11.0->typer<1.0.0,>=0.3.0->spacy) (0.1.2)\n",
            "Downloading fuzzywuzzy-0.18.0-py2.py3-none-any.whl (18 kB)\n",
            "Downloading python_Levenshtein-0.26.1-py3-none-any.whl (9.4 kB)\n",
            "Downloading levenshtein-0.26.1-cp310-cp310-manylinux_2_17_x86_64.manylinux2014_x86_64.whl (162 kB)\n",
            "\u001b[2K   \u001b[90m━━━━━━━━━━━━━━━━━━━━━━━━━━━━━━━━━━━━━━━━\u001b[0m \u001b[32m162.6/162.6 kB\u001b[0m \u001b[31m3.5 MB/s\u001b[0m eta \u001b[36m0:00:00\u001b[0m\n",
            "\u001b[?25hDownloading rapidfuzz-3.11.0-cp310-cp310-manylinux_2_17_x86_64.manylinux2014_x86_64.whl (3.1 MB)\n",
            "\u001b[2K   \u001b[90m━━━━━━━━━━━━━━━━━━━━━━━━━━━━━━━━━━━━━━━━\u001b[0m \u001b[32m3.1/3.1 MB\u001b[0m \u001b[31m34.8 MB/s\u001b[0m eta \u001b[36m0:00:00\u001b[0m\n",
            "\u001b[?25hInstalling collected packages: fuzzywuzzy, rapidfuzz, Levenshtein, python-Levenshtein\n",
            "Successfully installed Levenshtein-0.26.1 fuzzywuzzy-0.18.0 python-Levenshtein-0.26.1 rapidfuzz-3.11.0\n"
          ]
        }
      ],
      "source": [
        "pip install pandas numpy fuzzywuzzy python-Levenshtein scikit-learn nltk spacy sentence-transformers matplotlib seaborn plotly beautifulsoup4 requests tqdm"
      ]
    },
    {
      "cell_type": "markdown",
      "source": [
        "Testing"
      ],
      "metadata": {
        "id": "Pa5Gs-f_Sj7e"
      }
    },
    {
      "cell_type": "code",
      "source": [
        "import pandas as pd\n",
        "from fuzzywuzzy import fuzz\n",
        "\n",
        "# Load datasets\n",
        "our_data = pd.read_csv(\"2023_sales_data.csv\")\n",
        "market_data = pd.read_csv(\"CP_no_image_and_descr.csv\")\n",
        "\n",
        "# Preprocess and clean data\n",
        "our_data['Category'] = our_data['Category'].str.lower().fillna(\"\")\n",
        "# our_data['Product_Name'] = our_data['Product_Name'].str.lower().fillna(\"\")\n",
        "# market_data['product_name'] = market_data['product_name'].str.lower().fillna(\"\")\n",
        "our_data['Product_Name'] = our_data['Product_Name'].str.replace(r'[^\\w\\s]', '', regex=True)\n",
        "market_data['product_name'] = market_data['product_name'].str.replace(r'[^\\w\\s]', '', regex=True)\n",
        "\n",
        "\n",
        "# Top products in your dataset\n",
        "top_products = our_data.groupby('Category')['Total'].sum().sort_values(ascending=False)\n",
        "\n",
        "# Top products in external dataset\n",
        "trending_products = market_data[market_data['avg_rating'] > 4.5].sort_values('review_count', ascending=False)\n",
        "\n",
        "# Define the matching function\n",
        "# def match_products(product_name, external_products):\n",
        "#     matches = external_products['product_name'].apply(lambda x: fuzz.ratio(str(x), str(product_name)))\n",
        "#     return external_products.loc[matches.idxmax()] if matches.max() > 80 else None\n",
        "\n",
        "\n",
        "# def match_products(product_name, external_products, threshold=60):\n",
        "#     matches = external_products['product_name'].apply(lambda x: fuzz.ratio(str(x), str(product_name)))\n",
        "#     return external_products.loc[matches.idxmax()] if matches.max() > threshold else None\n",
        "\n",
        "\n",
        "def match_products(product_name, external_products, threshold=50):\n",
        "    match, score = process.extractOne(product_name, external_products['product_name'], scorer=fuzz.token_set_ratio)\n",
        "    return external_products.loc[external_products['product_name'] == match] if score > threshold else None\n",
        "\n",
        "# Generate recommendations\n",
        "recommendations = []\n",
        "for _, row in our_data.head(5).iterrows():  # Check the first 5 rows for debugging\n",
        "    scores = market_data['product_name'].apply(lambda x: fuzz.ratio(str(x), str(row['Product_Name'])))\n",
        "    print(f\"Product: {row['Product_Name']} | Best Match: {market_data.loc[scores.idxmax(), 'product_name']} | Score: {scores.max()}\")\n",
        "\n",
        "# for _, row in our_data.iterrows():\n",
        "#     matched = match_products(row['Product_Name'], market_data)\n",
        "#     if matched is not None:\n",
        "#         recommendations.append(matched)\n",
        "\n",
        "# Convert recommendations to a DataFrame\n",
        "recommendations_df = pd.DataFrame(recommendations)\n",
        "\n",
        "# Display the recommendations\n",
        "print(recommendations_df)\n",
        "print(our_data[['Product_Name', 'Category']].head())\n",
        "print(market_data[['product_name', 'avg_rating']].head())\n"
      ],
      "metadata": {
        "colab": {
          "base_uri": "https://localhost:8080/"
        },
        "id": "39qG6gvPShp7",
        "outputId": "4d9cf014-eec8-497d-fd4a-dbdefe339768"
      },
      "execution_count": 2,
      "outputs": [
        {
          "output_type": "stream",
          "name": "stdout",
          "text": [
            "Product: Gym Towel | Best Match: Gaiam NoSlip Yoga Mat Towel GrapeNavy | Score: 35\n",
            "Product: Coffee | Best Match: Café Bustelo Instant Coffee | Score: 36\n",
            "Product: Lip Balm | Best Match: Lipton Brisk 12fm | Score: 48\n",
            "Product: Water Bottle | Best Match: bubba Flo Kids Water Bottle Purple 16 fl oz | Score: 44\n",
            "Product: Sunscreen | Best Match: nan | Score: 33\n",
            "Empty DataFrame\n",
            "Columns: []\n",
            "Index: []\n",
            "   Product_Name            Category\n",
            "0     Gym Towel   sports_and_travel\n",
            "1        Coffee  food_and_beverages\n",
            "2      Lip Balm   health_and_beauty\n",
            "3  Water Bottle   sports_and_travel\n",
            "4     Sunscreen   health_and_beauty\n",
            "                                        product_name  avg_rating\n",
            "0  eos Shea Better Body Lotion for Dry Skin Vanil...         4.8\n",
            "1  Suave Skin Solutions Silkening Body Lotion for...         4.3\n",
            "2  NIVEA Intense Healing Body Lotion 72 Hour Mois...         4.7\n",
            "3  The Body Lab Personalized Moisturizing Body Lo...         4.5\n",
            "4  Jergens Sweet Citrus Triple Butter Blend Lotio...         4.7\n"
          ]
        }
      ]
    },
    {
      "cell_type": "markdown",
      "source": [
        "Testing another Logic"
      ],
      "metadata": {
        "id": "irL7axFJStmD"
      }
    },
    {
      "cell_type": "code",
      "source": [
        "import pandas as pd\n",
        "from fuzzywuzzy import fuzz\n",
        "from fuzzywuzzy import process\n",
        "\n",
        "# Load datasets\n",
        "our_data = pd.read_csv(\"2023_sales_data.csv\")\n",
        "market_data = pd.read_csv(\"CP_no_image_and_descr.csv\")\n",
        "\n",
        "# Preprocess and clean data\n",
        "our_data['Category'] = our_data['Category'].str.lower().fillna(\"\")\n",
        "our_data['Product_Name'] = our_data['Product_Name'].str.replace(r'[^\\w\\s]', '', regex=True)\n",
        "market_data['product_name'] = market_data['product_name'].str.replace(r'[^\\w\\s]', '', regex=True)\n",
        "\n",
        "# def match_products(product_name, external_products, threshold=60):\n",
        "#     match, score = process.extractOne(product_name, external_products['product_name'], scorer=fuzz.token_set_ratio)\n",
        "#     return external_products.loc[external_products['product_name'] == match] if score > threshold else None\n",
        "\n",
        "# # Define the matching function\n",
        "def match_products(product_name, external_products, threshold=5):\n",
        "    # Extract the best match and its score\n",
        "    result = process.extractOne(product_name, external_products['product_name'], scorer=fuzz.token_set_ratio)\n",
        "    if result:  # Ensure there is a result\n",
        "        match, score = result[0], result[1]\n",
        "        # Exclude perfect matches\n",
        "        if score > threshold and product_name.lower() != match.lower():\n",
        "            return match, score\n",
        "    return None, None\n",
        "\n",
        "# Generate recommendations and print debug output\n",
        "recommendations = []\n",
        "for _, row in our_data.head(5).iterrows():  # Limit to the first 5 rows for testing\n",
        "    best_match, score = match_products(row['Product_Name'], market_data)\n",
        "    if best_match:\n",
        "        # Add recommendation to the list\n",
        "        recommendations.append({\n",
        "            \"Sold_Product\": row['Product_Name'],\n",
        "            \"Category\": row['Category'],\n",
        "            \"Best_Match\": best_match,\n",
        "            \"Score\": score\n",
        "        })\n",
        "\n",
        "# Convert recommendations to a DataFrame\n",
        "recommendations_df = pd.DataFrame(recommendations)\n",
        "\n",
        "# Display the recommendations DataFrame with refined output\n",
        "print(\"\\nRecommendations:\")\n",
        "print(recommendations_df.to_string(index=False))\n",
        "\n",
        "# Debugging outputs (optional)\n",
        "print(\"\\nOur Data (Sample):\")\n",
        "print(our_data[['Product_Name', 'Category']].head())\n",
        "\n",
        "print(\"\\nMarket Data (Sample):\")\n",
        "print(market_data[['product_name', 'avg_rating']].head())\n"
      ],
      "metadata": {
        "colab": {
          "base_uri": "https://localhost:8080/"
        },
        "id": "74G1HQg6St9i",
        "outputId": "d547fff0-5295-4f26-d4cb-2652912b3c9a"
      },
      "execution_count": 3,
      "outputs": [
        {
          "output_type": "stream",
          "name": "stdout",
          "text": [
            "\n",
            "Recommendations:\n",
            "Sold_Product           Category                                                                                                                                                               Best_Match  Score\n",
            "   Gym Towel  sports_and_travel 4 Pack Cooling Towels40x 12 Ice Towel for Neck and Face Soft Breathable Chilly Microfiber Keep Cool Towels for Yoga Gym Fitness Camping Running Workout  More Activities    100\n",
            "      Coffee food_and_beverages                                                                                               Folgers Classic Roast Ground Coffee Medium Roast Coffee 259 Ounce Canister    100\n",
            "    Lip Balm  health_and_beauty                                                                           Carmex Daily Care Moisturizing Lip Balm Sticks SPF 15 MultiFlavor Lip Balm 3 Count 1 Pack of 3    100\n",
            "Water Bottle  sports_and_travel                                                                                                        TYLT AllInOne Water Bottle and Portable Power Bank 5700mAh  Black    100\n",
            "   Sunscreen  health_and_beauty                                                                                            Stylore 100 Silk Scarf Lightweight Sunscreen Wrap Scarves Paisley Dome Golden    100\n",
            "\n",
            "Our Data (Sample):\n",
            "   Product_Name            Category\n",
            "0     Gym Towel   sports_and_travel\n",
            "1        Coffee  food_and_beverages\n",
            "2      Lip Balm   health_and_beauty\n",
            "3  Water Bottle   sports_and_travel\n",
            "4     Sunscreen   health_and_beauty\n",
            "\n",
            "Market Data (Sample):\n",
            "                                        product_name  avg_rating\n",
            "0  eos Shea Better Body Lotion for Dry Skin Vanil...         4.8\n",
            "1  Suave Skin Solutions Silkening Body Lotion for...         4.3\n",
            "2  NIVEA Intense Healing Body Lotion 72 Hour Mois...         4.7\n",
            "3  The Body Lab Personalized Moisturizing Body Lo...         4.5\n",
            "4  Jergens Sweet Citrus Triple Butter Blend Lotio...         4.7\n"
          ]
        }
      ]
    },
    {
      "cell_type": "markdown",
      "source": [
        "Testing and viewing all products\n"
      ],
      "metadata": {
        "id": "oKbiJ9vLSv6g"
      }
    },
    {
      "cell_type": "code",
      "source": [
        "import pandas as pd\n",
        "from fuzzywuzzy import fuzz\n",
        "from fuzzywuzzy import process\n",
        "\n",
        "# Load datasets\n",
        "our_data = pd.read_csv(\"2023_sales_data.csv\")\n",
        "market_data = pd.read_csv(\"CP_no_image_and_descr.csv\")\n",
        "\n",
        "# Preprocess and clean data\n",
        "our_data['Product_Name'] = our_data['Product_Name'].str.replace(r'[^\\w\\s]', '', regex=True).fillna(\"\")\n",
        "market_data['product_name'] = market_data['product_name'].str.replace(r'[^\\w\\s]', '', regex=True).fillna(\"\")\n",
        "\n",
        "# Matching function\n",
        "def match_products(product_name, external_products, threshold=85):\n",
        "    result = process.extractOne(product_name, external_products['product_name'], scorer=fuzz.token_set_ratio)\n",
        "    if result:  # Ensure result is not None\n",
        "        match, score, _ = result  # Unpack all three values (match_string, score, index)\n",
        "        if score > threshold and product_name.lower() != match.lower():\n",
        "            return match, score\n",
        "    return None, None\n",
        "\n",
        "# Generate recommendations\n",
        "recommendations = []\n",
        "for _, row in our_data.iterrows():\n",
        "    best_match, score = match_products(row['Product_Name'], market_data)\n",
        "    if best_match:\n",
        "        recommendations.append({\n",
        "            \"Sold_Product\": row['Product_Name'],\n",
        "            \"Category\": row['Category'],\n",
        "            \"Best_Match\": best_match,\n",
        "            \"Score\": score\n",
        "        })\n",
        "\n",
        "# Convert to DataFrame\n",
        "recommendations_df = pd.DataFrame(recommendations)\n",
        "\n",
        "# Display recommendations\n",
        "print(\"Recommendations:\")\n",
        "print(recommendations_df)\n"
      ],
      "metadata": {
        "colab": {
          "base_uri": "https://localhost:8080/"
        },
        "id": "1raMDU07Sx45",
        "outputId": "5c5526e2-33be-436a-a26a-2ea1d309b804"
      },
      "execution_count": 4,
      "outputs": [
        {
          "output_type": "stream",
          "name": "stdout",
          "text": [
            "Recommendations:\n",
            "      Sold_Product             Category  \\\n",
            "0        Gym Towel    Sports_and_travel   \n",
            "1           Coffee   Food_and_beverages   \n",
            "2         Lip Balm    Health_and_beauty   \n",
            "3     Water Bottle    Sports_and_travel   \n",
            "4        Sunscreen    Health_and_beauty   \n",
            "...            ...                  ...   \n",
            "2018        Coffee   Food_and_beverages   \n",
            "2019      Bracelet  Fashion_accessories   \n",
            "2020         Scarf  Fashion_accessories   \n",
            "2021      Bracelet  Fashion_accessories   \n",
            "2022      Lip Balm    Health_and_beauty   \n",
            "\n",
            "                                             Best_Match  Score  \n",
            "0     4 Pack Cooling Towels40x 12 Ice Towel for Neck...    100  \n",
            "1     Folgers Classic Roast Ground Coffee Medium Roa...    100  \n",
            "2     Carmex Daily Care Moisturizing Lip Balm Sticks...    100  \n",
            "3     TYLT AllInOne Water Bottle and Portable Power ...    100  \n",
            "4     Stylore 100 Silk Scarf Lightweight Sunscreen W...    100  \n",
            "...                                                 ...    ...  \n",
            "2018  Folgers Classic Roast Ground Coffee Medium Roa...    100  \n",
            "2019  APSVO Ajustable 610 Inch White Gold Eternity T...    100  \n",
            "2020  Loritta 3 Pcs Beanie Hat Long Scarf NoSlip Tou...    100  \n",
            "2021  APSVO Ajustable 610 Inch White Gold Eternity T...    100  \n",
            "2022  Carmex Daily Care Moisturizing Lip Balm Sticks...    100  \n",
            "\n",
            "[2023 rows x 4 columns]\n"
          ]
        }
      ]
    },
    {
      "cell_type": "markdown",
      "source": [
        "Final_processed"
      ],
      "metadata": {
        "id": "M2QteUGLSzgW"
      }
    },
    {
      "cell_type": "code",
      "source": [
        "import pandas as pd\n",
        "from fuzzywuzzy import fuzz, process\n",
        "\n",
        "# Load datasets\n",
        "our_data = pd.read_csv(\"2023_sales_data.csv\")\n",
        "market_data = pd.read_csv(\"CP_no_image_and_descr.csv\")\n",
        "\n",
        "# Preprocess and clean data\n",
        "our_data['Category'] = our_data['Category'].str.lower().fillna(\"\")\n",
        "our_data['Product_Name'] = our_data['Product_Name'].str.replace(r'[^\\w\\s]', '', regex=True).str.lower()\n",
        "market_data['product_name'] = market_data['product_name'].str.replace(r'[^\\w\\s]', '', regex=True).str.lower()\n",
        "\n",
        "\n",
        "print(\"\\nRecommendations:\")\n",
        "print(recommendations_df.to_string(index=False))\n",
        "print(\"\\n\")\n",
        "\n",
        "# Define the matching function\n",
        "def match_products(product_name, external_products, threshold=60):\n",
        "    \"\"\"\n",
        "    Matches a product name against a list of external product names and returns the best match.\n",
        "    \"\"\"\n",
        "    result = process.extractOne(product_name, external_products['product_name'], scorer=fuzz.token_set_ratio)\n",
        "    if result:  # Ensure a match is found\n",
        "        match, score = result[:2]  # Unpack only the first two values (ignore the index)\n",
        "        if score > threshold and product_name != match:\n",
        "            return match, score\n",
        "    return None, None\n",
        "\n",
        "# Generate recommendations\n",
        "recommendations = []\n",
        "for _, row in our_data.head(5).iterrows():  # Limit to the first 5 rows for testing\n",
        "    scores = market_data['product_name'].apply(lambda x: fuzz.ratio(str(x), str(row['Product_Name'])))\n",
        "    best_match, score = match_products(row['Product_Name'], market_data, threshold=50)\n",
        "\n",
        "    if best_match:\n",
        "        # Add recommendation to the list\n",
        "        recommendations.append({\n",
        "            \"Sold_Product\": row['Product_Name'],\n",
        "            \"Category\": row['Category'],\n",
        "            \"Best_Match\": best_match,\n",
        "            \"Score\": scores.max()*2\n",
        "        })\n",
        "        print(f\"According to the market, you try '{best_match}'as it has markeing trend score of {scores.max()*2} to '{row['Product_Name']}'.\")\n",
        "    else:\n",
        "        print(f\"No suitable match found for '{row['Product_Name']}' ('{row['Category']}').\")\n",
        "\n",
        "# Convert recommendations to a DataFrame\n",
        "recommendations_df = pd.DataFrame(recommendations)\n",
        "\n",
        "\n",
        "# Debugging outputs (optional)\n",
        "# print(\"\\nOur Data (Sample):\")\n",
        "# print(our_data[['Product_Name', 'Category']].head())\n",
        "\n",
        "# print(\"\\nMarket Data (Sample):\")\n",
        "# print(market_data[['product_name']].head())\n"
      ],
      "metadata": {
        "colab": {
          "base_uri": "https://localhost:8080/"
        },
        "id": "h7sBSKWuS--Y",
        "outputId": "745a1bb8-3c81-4068-ae3a-856acde7d8b3"
      },
      "execution_count": 7,
      "outputs": [
        {
          "output_type": "stream",
          "name": "stdout",
          "text": [
            "\n",
            "Recommendations:\n",
            "Sold_Product           Category                                                                                                                                                               Best_Match  Score\n",
            "   gym towel  sports_and_travel 4 pack cooling towels40x 12 ice towel for neck and face soft breathable chilly microfiber keep cool towels for yoga gym fitness camping running workout  more activities     78\n",
            "      coffee food_and_beverages                                                                                               folgers classic roast ground coffee medium roast coffee 259 ounce canister     72\n",
            "    lip balm  health_and_beauty                                                                           carmex daily care moisturizing lip balm sticks spf 15 multiflavor lip balm 3 count 1 pack of 3     96\n",
            "water bottle  sports_and_travel                                                                                                        tylt allinone water bottle and portable power bank 5700mah  black     88\n",
            "   sunscreen  health_and_beauty                                                                                            stylore 100 silk scarf lightweight sunscreen wrap scarves paisley dome golden     72\n",
            "\n",
            "\n",
            "According to the market, you try '4 pack cooling towels40x 12 ice towel for neck and face soft breathable chilly microfiber keep cool towels for yoga gym fitness camping running workout  more activities'as it has markeing trend score of 78 to 'gym towel'.\n",
            "According to the market, you try 'folgers classic roast ground coffee medium roast coffee 259 ounce canister'as it has markeing trend score of 72 to 'coffee'.\n",
            "According to the market, you try 'carmex daily care moisturizing lip balm sticks spf 15 multiflavor lip balm 3 count 1 pack of 3'as it has markeing trend score of 96 to 'lip balm'.\n",
            "According to the market, you try 'tylt allinone water bottle and portable power bank 5700mah  black'as it has markeing trend score of 88 to 'water bottle'.\n",
            "According to the market, you try 'stylore 100 silk scarf lightweight sunscreen wrap scarves paisley dome golden'as it has markeing trend score of 72 to 'sunscreen'.\n"
          ]
        }
      ]
    }
  ]
}